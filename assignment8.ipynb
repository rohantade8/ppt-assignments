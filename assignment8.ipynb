{
  "nbformat": 4,
  "nbformat_minor": 0,
  "metadata": {
    "colab": {
      "provenance": []
    },
    "kernelspec": {
      "name": "python3",
      "display_name": "Python 3"
    },
    "language_info": {
      "name": "python"
    }
  },
  "cells": [
    {
      "cell_type": "markdown",
      "source": [
        "**Question 1**\n",
        "\n",
        "Given two strings s1 and s2, return *the lowest **ASCII** sum of deleted characters to make two strings equal*.\n",
        "\n",
        "**Example 1:**\n",
        "\n",
        "**Input:** s1 = \"sea\", s2 = \"eat\"\n",
        "\n",
        "**Output:** 231\n",
        "\n",
        "**Explanation:** Deleting \"s\" from \"sea\" adds the ASCII value of \"s\" (115) to the sum.\n",
        "\n",
        "Deleting \"t\" from \"eat\" adds 116 to the sum.\n",
        "\n",
        "At the end, both strings are equal, and 115 + 116 = 231 is the minimum sum possible to achieve this."
      ],
      "metadata": {
        "id": "BvDTIex51Whe"
      }
    },
    {
      "cell_type": "code",
      "execution_count": 1,
      "metadata": {
        "id": "qOvGrxCL1NO-"
      },
      "outputs": [],
      "source": [
        "def minimumDeleteSum(s1, s2):\n",
        "    m, n = len(s1), len(s2)\n",
        "    dp = [[0] * (n+1) for _ in range(m+1)]\n",
        "\n",
        "    # Initialize first row\n",
        "    for j in range(1, n+1):\n",
        "        dp[0][j] = dp[0][j-1] + ord(s2[j-1])\n",
        "\n",
        "    # Initialize first column\n",
        "    for i in range(1, m+1):\n",
        "        dp[i][0] = dp[i-1][0] + ord(s1[i-1])\n",
        "\n",
        "    # Fill the remaining cells\n",
        "    for i in range(1, m+1):\n",
        "        for j in range(1, n+1):\n",
        "            if s1[i-1] == s2[j-1]:\n",
        "                dp[i][j] = dp[i-1][j-1]\n",
        "            else:\n",
        "                dp[i][j] = min(dp[i-1][j] + ord(s1[i-1]), dp[i][j-1] + ord(s2[j-1]))\n",
        "\n",
        "    return dp[m][n]"
      ]
    },
    {
      "cell_type": "markdown",
      "source": [
        "**Question 2**\n",
        "\n",
        "Given a string s containing only three types of characters: '(', ')' and '*', return true *if* s *is **valid***.\n",
        "\n",
        "The following rules define a **valid** string:\n",
        "\n",
        "- Any left parenthesis '(' must have a corresponding right parenthesis ')'.\n",
        "- Any right parenthesis ')' must have a corresponding left parenthesis '('.\n",
        "- Left parenthesis '(' must go before the corresponding right parenthesis ')'.\n",
        "- '*' could be treated as a single right parenthesis ')' or a single left parenthesis '(' or an empty string \"\".\n",
        "\n",
        "**Example 1:**\n",
        "\n",
        "**Input:** s = \"()\"\n",
        "\n",
        "**Output:**\n",
        "\n",
        "true"
      ],
      "metadata": {
        "id": "jlos1wHT3ZG1"
      }
    },
    {
      "cell_type": "code",
      "source": [
        "def isValid(s):\n",
        "    stack = []\n",
        "\n",
        "    for c in s:\n",
        "        if c == '(' or c == '*':\n",
        "            stack.append(c)\n",
        "        elif c == ')':\n",
        "            if stack and stack[-1] == '(':\n",
        "                stack.pop()\n",
        "            elif stack and stack[-1] == '*':\n",
        "                stack.pop()\n",
        "            else:\n",
        "                return False\n",
        "\n",
        "    while stack:\n",
        "        if stack[-1] == '*':\n",
        "            stack.pop()\n",
        "        else:\n",
        "            return False\n",
        "\n",
        "    return True"
      ],
      "metadata": {
        "id": "LTCzfHH33ITD"
      },
      "execution_count": 2,
      "outputs": []
    },
    {
      "cell_type": "markdown",
      "source": [
        "**Question 3**\n",
        "\n",
        "Given two strings word1 and word2, return *the minimum number of **steps** required to make* word1 *and* word2 *the same*.\n",
        "\n",
        "In one **step**, you can delete exactly one character in either string.\n",
        "\n",
        "**Example 1:**\n",
        "\n",
        "**Input:** word1 = \"sea\", word2 = \"eat\"\n",
        "\n",
        "**Output:** 2\n",
        "\n",
        "**Explanation:** You need one step to make \"sea\" to \"ea\" and another step to make \"eat\" to \"ea\"."
      ],
      "metadata": {
        "id": "HVFhZY4T30mT"
      }
    },
    {
      "cell_type": "code",
      "source": [
        "def minDistance(word1, word2):\n",
        "    m, n = len(word1), len(word2)\n",
        "    dp = [[0] * (n+1) for _ in range(m+1)]\n",
        "\n",
        "    # Initialize first row\n",
        "    for j in range(1, n+1):\n",
        "        dp[0][j] = j\n",
        "\n",
        "    # Initialize first column\n",
        "    for i in range(1, m+1):\n",
        "        dp[i][0] = i\n",
        "\n",
        "    # Fill the remaining cells\n",
        "    for i in range(1, m+1):\n",
        "        for j in range(1, n+1):\n",
        "            if word1[i-1] == word2[j-1]:\n",
        "                dp[i][j] = dp[i-1][j-1]\n",
        "            else:\n",
        "                dp[i][j] = min(dp[i-1][j] + 1, dp[i][j-1] + 1)\n",
        "\n",
        "    return dp[m][n]"
      ],
      "metadata": {
        "id": "e2iIUI4O3j-H"
      },
      "execution_count": 3,
      "outputs": []
    },
    {
      "cell_type": "markdown",
      "source": [
        "**Question 4**\n",
        "\n",
        "You need to construct a binary tree from a string consisting of parenthesis and integers.\n",
        "\n",
        "The whole input represents a binary tree. It contains an integer followed by zero, one or two pairs of parenthesis. The integer represents the root's value and a pair of parenthesis contains a child binary tree with the same structure.\n",
        "You always start to construct the **left** child node of the parent first if it exists.\n",
        "\n",
        "**Input:** s = \"4(2(3)(1))(6(5))\"\n",
        "\n",
        "**Output:** [4,2,6,3,1,5]"
      ],
      "metadata": {
        "id": "sG1arPA54FGe"
      }
    },
    {
      "cell_type": "code",
      "source": [
        "class TreeNode:\n",
        "    def __init__(self, val=0, left=None, right=None):\n",
        "        self.val = val\n",
        "        self.left = left\n",
        "        self.right = right\n",
        "\n",
        "def constructTree(s, start, end):\n",
        "    if start > end:\n",
        "        return None\n",
        "\n",
        "    i = s.find('(', start, end+1)\n",
        "    if i == -1 or i > end:\n",
        "        val = int(s[start:end+1])\n",
        "        return TreeNode(val)\n",
        "\n",
        "    val = int(s[start:i])\n",
        "    node = TreeNode(val)\n",
        "\n",
        "    count = 0\n",
        "    for j in range(i+1, end+1):\n",
        "        if s[j] == '(':\n",
        "            count += 1\n",
        "        elif s[j] == ')':\n",
        "            count -= 1\n",
        "\n",
        "        if count == 0:\n",
        "            node.left = constructTree(s, i+1, j-1)\n",
        "            node.right = constructTree(s, j+2, end-1)\n",
        "            break\n",
        "\n",
        "    return node\n",
        "\n",
        "def constructFromString(s):\n",
        "    return constructTree(s, 0, len(s)-1)"
      ],
      "metadata": {
        "id": "mGQGy1p24Bj9"
      },
      "execution_count": 4,
      "outputs": []
    },
    {
      "cell_type": "markdown",
      "source": [
        "**Question 5**\n",
        "\n",
        "Given an array of characters chars, compress it using the following algorithm:\n",
        "\n",
        "Begin with an empty string s. For each group of **consecutive repeating characters** in chars:\n",
        "\n",
        "- If the group's length is 1, append the character to s.\n",
        "- Otherwise, append the character followed by the group's length.\n",
        "\n",
        "The compressed string s **should not be returned separately**, but instead, be stored **in the input character array chars**. Note that group lengths that are 10 or longer will be split into multiple characters in chars.\n",
        "\n",
        "After you are done **modifying the input array,** return *the new length of the array*.\n",
        "\n",
        "You must write an algorithm that uses only constant extra space.\n",
        "\n",
        "**Example 1:**\n",
        "\n",
        "**Input:** chars = [\"a\",\"a\",\"b\",\"b\",\"c\",\"c\",\"c\"]\n",
        "\n",
        "**Output:** Return 6, and the first 6 characters of the input array should be: [\"a\",\"2\",\"b\",\"2\",\"c\",\"3\"]\n",
        "\n",
        "**Explanation:**\n",
        "\n",
        "The groups are \"aa\", \"bb\", and \"ccc\". This compresses to \"a2b2c3\"."
      ],
      "metadata": {
        "id": "llKdffJe4X8M"
      }
    },
    {
      "cell_type": "code",
      "source": [
        "def compress(chars):\n",
        "    write = 0\n",
        "    read = 0\n",
        "    count = 1\n",
        "\n",
        "    for read in range(1, len(chars) + 1):\n",
        "        if read < len(chars) and chars[read] == chars[read - 1]:\n",
        "            count += 1\n",
        "        else:\n",
        "            chars[write] = chars[read - 1]\n",
        "            write += 1\n",
        "            if count > 1:\n",
        "                for digit in str(count):\n",
        "                    chars[write] = digit\n",
        "                    write += 1\n",
        "            count = 1\n",
        "\n",
        "    return write"
      ],
      "metadata": {
        "id": "H-XZixrI4UD8"
      },
      "execution_count": 5,
      "outputs": []
    },
    {
      "cell_type": "markdown",
      "source": [
        "**Question 6**\n",
        "\n",
        "Given two strings s and p, return *an array of all the start indices of* p*'s anagrams in* s. You may return the answer in **any order**.\n",
        "\n",
        "An **Anagram** is a word or phrase formed by rearranging the letters of a different word or phrase, typically using all the original letters exactly once.\n",
        "\n",
        "**Example 1:**\n",
        "\n",
        "**Input:** s = \"cbaebabacd\", p = \"abc\"\n",
        "\n",
        "**Output:** [0,6]\n",
        "\n",
        "**Explanation:**\n",
        "\n",
        "The substring with start index = 0 is \"cba\", which is an anagram of \"abc\".\n",
        "\n",
        "The substring with start index = 6 is \"bac\", which is an anagram of \"abc\"."
      ],
      "metadata": {
        "id": "AvDmI0qH4ki3"
      }
    },
    {
      "cell_type": "code",
      "source": [
        "from collections import Counter\n",
        "\n",
        "def findAnagrams(s, p):\n",
        "    result = []\n",
        "    p_freq = Counter(p)\n",
        "    window_freq = Counter()\n",
        "\n",
        "    left, right = 0, 0\n",
        "\n",
        "    while right < len(s):\n",
        "        window_freq[s[right]] += 1\n",
        "\n",
        "        if right - left + 1 == len(p):\n",
        "            if window_freq == p_freq:\n",
        "                result.append(left)\n",
        "\n",
        "            window_freq[s[left]] -= 1\n",
        "            if window_freq[s[left]] == 0:\n",
        "                del window_freq[s[left]]\n",
        "            left += 1\n",
        "\n",
        "        right += 1\n",
        "\n",
        "    return result"
      ],
      "metadata": {
        "id": "5wAehUYb4j7V"
      },
      "execution_count": 6,
      "outputs": []
    },
    {
      "cell_type": "markdown",
      "source": [
        "**Question 7**\n",
        "\n",
        "Given an encoded string, return its decoded string.\n",
        "\n",
        "The encoding rule is: k[encoded_string], where the encoded_string inside the square brackets is being repeated exactly k times. Note that k is guaranteed to be a positive integer.\n",
        "\n",
        "You may assume that the input string is always valid; there are no extra white spaces, square brackets are well-formed, etc. Furthermore, you may assume that the original data does not contain any digits and that digits are only for those repeat numbers, k. For example, there will not be input like 3a or 2[4].\n",
        "\n",
        "The test cases are generated so that the length of the output will never exceed 105.\n",
        "\n",
        "**Example 1:**\n",
        "\n",
        "**Input:** s = \"3[a]2[bc]\"\n",
        "\n",
        "**Output:** \"aaabcbc\""
      ],
      "metadata": {
        "id": "_bLUuAcb44PU"
      }
    },
    {
      "cell_type": "code",
      "source": [
        "def decodeString(s):\n",
        "    current_str = \"\"\n",
        "    str_stack = []\n",
        "    count_stack = []\n",
        "    current_count = 0\n",
        "\n",
        "    for c in s:\n",
        "        if c.isdigit():\n",
        "            current_count = current_count * 10 + int(c)\n",
        "        elif c == \"[\":\n",
        "            str_stack.append(current_str)\n",
        "            count_stack.append(current_count)\n",
        "            current_str = \"\"\n",
        "            current_count = 0\n",
        "        elif c == \"]\":\n",
        "            prev_str = str_stack.pop()\n",
        "            prev_count = count_stack.pop()\n",
        "            current_str = prev_str + current_str * prev_count\n",
        "        else:\n",
        "            current_str += c\n",
        "\n",
        "    return current_str\n"
      ],
      "metadata": {
        "id": "TnKdc9Uo41QC"
      },
      "execution_count": 7,
      "outputs": []
    },
    {
      "cell_type": "markdown",
      "source": [
        "**Question 8**\n",
        "\n",
        "Given two strings s and goal, return true *if you can swap two letters in* s *so the result is equal to* goal*, otherwise, return* false*.*\n",
        "\n",
        "Swapping letters is defined as taking two indices i and j (0-indexed) such that i != j and swapping the characters at s[i] and s[j].\n",
        "\n",
        "- For example, swapping at indices 0 and 2 in \"abcd\" results in \"cbad\".\n",
        "\n",
        "**Example 1:**\n",
        "\n",
        "**Input:** s = \"ab\", goal = \"ba\"\n",
        "\n",
        "**Output:** true\n",
        "\n",
        "**Explanation:** You can swap s[0] = 'a' and s[1] = 'b' to get \"ba\", which is equal to goal."
      ],
      "metadata": {
        "id": "xu4BDV6y5NKU"
      }
    },
    {
      "cell_type": "code",
      "source": [
        "def buddyStrings(s, goal):\n",
        "    if len(s) != len(goal):\n",
        "        return False\n",
        "\n",
        "    if s == goal and len(set(s)) < len(s):\n",
        "        return True\n",
        "\n",
        "    mismatch_s = []\n",
        "    mismatch_goal = []\n",
        "\n",
        "    for i in range(len(s)):\n",
        "        if s[i] != goal[i]:\n",
        "            mismatch_s.append(i)\n",
        "\n",
        "    for i in range(len(goal)):\n",
        "        if goal[i] != s[i]:\n",
        "            mismatch_goal.append(i)\n",
        "\n",
        "    return len(mismatch_s) == 2 and s[mismatch_s[0]] == goal[mismatch_goal[1]] and s[mismatch_s[1]] == goal[mismatch_goal[0]]\n"
      ],
      "metadata": {
        "id": "J3X8wSLy5LTx"
      },
      "execution_count": 8,
      "outputs": []
    },
    {
      "cell_type": "code",
      "source": [],
      "metadata": {
        "id": "shoeW1qg5eJr"
      },
      "execution_count": null,
      "outputs": []
    }
  ]
}