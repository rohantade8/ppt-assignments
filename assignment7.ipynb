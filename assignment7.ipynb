{
  "nbformat": 4,
  "nbformat_minor": 0,
  "metadata": {
    "colab": {
      "provenance": []
    },
    "kernelspec": {
      "name": "python3",
      "display_name": "Python 3"
    },
    "language_info": {
      "name": "python"
    }
  },
  "cells": [
    {
      "cell_type": "markdown",
      "source": [
        "**Question 1**\n",
        "\n",
        "Given two strings s and t, *determine if they are isomorphic*.\n",
        "\n",
        "Two strings s and t are isomorphic if the characters in s can be replaced to get t.\n",
        "\n",
        "All occurrences of a character must be replaced with another character while preserving the order of characters. No two characters may map to the same character, but a character may map to itself.\n",
        "\n",
        "**Example 1:**\n",
        "\n",
        "**Input:** s = \"egg\", t = \"add\"\n",
        "\n",
        "**Output:** true"
      ],
      "metadata": {
        "id": "riYIATuoKEEO"
      }
    },
    {
      "cell_type": "code",
      "execution_count": 1,
      "metadata": {
        "colab": {
          "base_uri": "https://localhost:8080/"
        },
        "id": "9-XtLyL2IBuh",
        "outputId": "0d4e5f96-f0af-466d-c9d8-262706464789"
      },
      "outputs": [
        {
          "output_type": "stream",
          "name": "stdout",
          "text": [
            "True\n"
          ]
        }
      ],
      "source": [
        "def isIsomorphic(s, t):\n",
        "    if len(s) != len(t):\n",
        "        return False\n",
        "\n",
        "    s_to_t = {}\n",
        "    t_to_s = {}\n",
        "\n",
        "    for char_s, char_t in zip(s, t):\n",
        "        if char_s not in s_to_t and char_t not in t_to_s:\n",
        "            s_to_t[char_s] = char_t\n",
        "            t_to_s[char_t] = char_s\n",
        "        elif s_to_t.get(char_s) != char_t or t_to_s.get(char_t) != char_s:\n",
        "            return False\n",
        "\n",
        "    return True\n",
        "s = \"egg\"\n",
        "t = \"add\"\n",
        "print(isIsomorphic(s, t))  # Output: True"
      ]
    },
    {
      "cell_type": "markdown",
      "source": [
        "**Question 2**\n",
        "\n",
        "Given a string num which represents an integer, return true *if* num *is a **strobogrammatic number***.\n",
        "\n",
        "A **strobogrammatic number** is a number that looks the same when rotated 180 degrees (looked at upside down).\n",
        "\n",
        "**Example 1:**\n",
        "\n",
        "**Input:** num = \"69\"\n",
        "\n",
        "**Output:**\n",
        "\n",
        "true"
      ],
      "metadata": {
        "id": "rL-93viWKekZ"
      }
    },
    {
      "cell_type": "code",
      "source": [
        "def isStrobogrammatic(num):\n",
        "    strobogrammatic_pairs = {'0':'0', '1':'1', '6':'9', '8':'8', '9':'6'}\n",
        "\n",
        "    left = 0\n",
        "    right = len(num) - 1\n",
        "\n",
        "    while left <= right:\n",
        "        if num[left] not in strobogrammatic_pairs or strobogrammatic_pairs[num[left]] != num[right]:\n",
        "            return False\n",
        "\n",
        "        left += 1\n",
        "        right -= 1\n",
        "\n",
        "    return True\n",
        "num = \"69\"\n",
        "print(isStrobogrammatic(num))  # Output: True\n"
      ],
      "metadata": {
        "colab": {
          "base_uri": "https://localhost:8080/"
        },
        "id": "iKJ5CdzHKQgt",
        "outputId": "0e3d13a9-0ad3-46ea-98da-80c0b1ca8bcb"
      },
      "execution_count": 2,
      "outputs": [
        {
          "output_type": "stream",
          "name": "stdout",
          "text": [
            "True\n"
          ]
        }
      ]
    },
    {
      "cell_type": "markdown",
      "source": [
        "<aside>\n",
        "💡 **Question 3**\n",
        "\n",
        "Given two non-negative integers, num1 and num2 represented as string, return *the sum of* num1 *and* num2 *as a string*.\n",
        "\n",
        "You must solve the problem without using any built-in library for handling large integers (such as BigInteger). You must also not convert the inputs to integers directly.\n",
        "\n",
        "**Example 1:**\n",
        "\n",
        "**Input:** num1 = \"11\", num2 = \"123\"\n",
        "\n",
        "**Output:**\n",
        "\n",
        "\"134\"\n",
        "\n",
        "</aside>"
      ],
      "metadata": {
        "id": "ZMezPp37Kwkd"
      }
    },
    {
      "cell_type": "code",
      "source": [
        "def addStrings(num1, num2):\n",
        "    i = len(num1) - 1\n",
        "    j = len(num2) - 1\n",
        "    carry = 0\n",
        "    result = \"\"\n",
        "\n",
        "    while i >= 0 or j >= 0:\n",
        "        x = int(num1[i]) if i >= 0 else 0\n",
        "        y = int(num2[j]) if j >= 0 else 0\n",
        "        s = x + y + carry\n",
        "        result = str(s % 10) + result\n",
        "        carry = s // 10\n",
        "        i -= 1\n",
        "        j -= 1\n",
        "\n",
        "    if carry > 0:\n",
        "        result = str(carry) + result\n",
        "\n",
        "    return result\n",
        "num1 = \"11\"\n",
        "num2 = \"123\"\n",
        "print(addStrings(num1, num2))  # Output: \"134\"\n"
      ],
      "metadata": {
        "colab": {
          "base_uri": "https://localhost:8080/"
        },
        "id": "gGicu4CFKtZK",
        "outputId": "a2210ae5-51f8-4d81-b264-b650555bd840"
      },
      "execution_count": 3,
      "outputs": [
        {
          "output_type": "stream",
          "name": "stdout",
          "text": [
            "134\n"
          ]
        }
      ]
    },
    {
      "cell_type": "markdown",
      "source": [
        "**Question 4**\n",
        "\n",
        "Given a string s, reverse the order of characters in each word within a sentence while still preserving whitespace and initial word order.\n",
        "\n",
        "**Example 1:**\n",
        "\n",
        "**Input:** s = \"Let's take LeetCode contest\"\n",
        "\n",
        "**Output:** \"s'teL ekat edoCteeL tsetnoc\""
      ],
      "metadata": {
        "id": "BqW7NkwvK7oA"
      }
    },
    {
      "cell_type": "code",
      "source": [
        "def reverseWords(s):\n",
        "    words = s.split()\n",
        "    reversed_words = [word[::-1] for word in words]\n",
        "    return ' '.join(reversed_words)\n",
        "s = \"Let's take LeetCode contest\"\n",
        "print(reverseWords(s))  # Output: \"s'teL ekat edoCteeL tsetnoc\""
      ],
      "metadata": {
        "colab": {
          "base_uri": "https://localhost:8080/"
        },
        "id": "XrfNHySDK5x7",
        "outputId": "bb0c4046-2c73-4534-814a-dc0be6ee06ba"
      },
      "execution_count": 4,
      "outputs": [
        {
          "output_type": "stream",
          "name": "stdout",
          "text": [
            "s'teL ekat edoCteeL tsetnoc\n"
          ]
        }
      ]
    },
    {
      "cell_type": "markdown",
      "source": [
        "**Question 5**\n",
        "\n",
        "Given a string s and an integer k, reverse the first k characters for every 2k characters counting from the start of the string.\n",
        "\n",
        "If there are fewer than k characters left, reverse all of them. If there are less than 2k but greater than or equal to k characters, then reverse the first k characters and leave the other as original.\n",
        "\n",
        "**Example 1:**\n",
        "\n",
        "**Input:** s = \"abcdefg\", k = 2\n",
        "\n",
        "**Output:**\n",
        "\n",
        "\"bacdfeg\""
      ],
      "metadata": {
        "id": "j2ZOdQUvLJg3"
      }
    },
    {
      "cell_type": "code",
      "source": [
        "def reverseStr(s, k):\n",
        "    result = \"\"\n",
        "    n = len(s)\n",
        "    i = 0\n",
        "\n",
        "    while i < n:\n",
        "        # Reverse the first k characters\n",
        "        result += s[i:i+k][::-1]\n",
        "\n",
        "        # Append the remaining characters\n",
        "        result += s[i+k:i+2*k]\n",
        "\n",
        "        i += 2 * k\n",
        "\n",
        "    return result\n",
        "s = \"abcdefg\"\n",
        "k = 2\n",
        "print(reverseStr(s, k))  # Output: \"bacdfeg\"\n"
      ],
      "metadata": {
        "colab": {
          "base_uri": "https://localhost:8080/"
        },
        "id": "F33aFnMLLCSL",
        "outputId": "340e162a-2a78-4807-da80-e37bcffe32c0"
      },
      "execution_count": 5,
      "outputs": [
        {
          "output_type": "stream",
          "name": "stdout",
          "text": [
            "bacdfeg\n"
          ]
        }
      ]
    },
    {
      "cell_type": "markdown",
      "source": [
        "**Question 6**\n",
        "\n",
        "Given two strings s and goal, return true *if and only if* s *can become* goal *after some number of **shifts** on* s.\n",
        "\n",
        "A **shift** on s consists of moving the leftmost character of s to the rightmost position.\n",
        "\n",
        "- For example, if s = \"abcde\", then it will be \"bcdea\" after one shift.\n",
        "\n",
        "**Example 1:**\n",
        "\n",
        "**Input:** s = \"abcde\", goal = \"cdeab\"\n",
        "\n",
        "**Output:**\n",
        "\n",
        "true"
      ],
      "metadata": {
        "id": "IW5E5_PkLXBQ"
      }
    },
    {
      "cell_type": "code",
      "source": [
        "def rotateString(s, goal):\n",
        "    if len(s) != len(goal):\n",
        "        return False\n",
        "\n",
        "    s2 = s + s\n",
        "    if goal in s2:\n",
        "        return True\n",
        "\n",
        "    return False\n",
        "s = \"abcde\"\n",
        "goal = \"cdeab\"\n",
        "print(rotateString(s, goal))  # Output: True\n"
      ],
      "metadata": {
        "colab": {
          "base_uri": "https://localhost:8080/"
        },
        "id": "EeD2NAQCLUPu",
        "outputId": "c66ac5b6-c03d-4377-cfeb-5dbf66871948"
      },
      "execution_count": 6,
      "outputs": [
        {
          "output_type": "stream",
          "name": "stdout",
          "text": [
            "True\n"
          ]
        }
      ]
    },
    {
      "cell_type": "markdown",
      "source": [
        "**Question 7**\n",
        "\n",
        "Given two strings s and t, return true *if they are equal when both are typed into empty text editors*. '#' means a backspace character.\n",
        "\n",
        "Note that after backspacing an empty text, the text will continue empty.\n",
        "\n",
        "**Example 1:**\n",
        "\n",
        "**Input:** s = \"ab#c\", t = \"ad#c\"\n",
        "\n",
        "**Output:** true\n",
        "\n",
        "**Explanation:**\n",
        "\n",
        "Both s and t become \"ac\"."
      ],
      "metadata": {
        "id": "Y6KIM-oPLjq_"
      }
    },
    {
      "cell_type": "code",
      "source": [
        "def buildString(s):\n",
        "    stack = []\n",
        "    for c in s:\n",
        "        if c != '#':\n",
        "            stack.append(c)\n",
        "        elif stack:\n",
        "            stack.pop()\n",
        "    return ''.join(stack)\n",
        "\n",
        "def backspaceCompare(s, t):\n",
        "    s_final = buildString(s)\n",
        "    t_final = buildString(t)\n",
        "    return s_final == t_final\n",
        "s = \"ab#c\"\n",
        "t = \"ad#c\"\n",
        "print(backspaceCompare(s, t))  # Output: True"
      ],
      "metadata": {
        "colab": {
          "base_uri": "https://localhost:8080/"
        },
        "id": "Q5nnsuQFLg8W",
        "outputId": "9d256325-bae8-451b-cde0-8ab30dfff1b4"
      },
      "execution_count": 7,
      "outputs": [
        {
          "output_type": "stream",
          "name": "stdout",
          "text": [
            "True\n"
          ]
        }
      ]
    },
    {
      "cell_type": "markdown",
      "source": [
        "**Question 8**\n",
        "\n",
        "You are given an array coordinates, coordinates[i] = [x, y], where [x, y] represents the coordinate of a point. Check if these points make a straight line in the XY plane.\n",
        "\n",
        "**Example 1:**\n",
        "**Input:** coordinates = [[1,2],[2,3],[3,4],[4,5],[5,6],[6,7]]\n",
        "\n",
        "**Output:** true"
      ],
      "metadata": {
        "id": "W5v_tP6bL0vF"
      }
    },
    {
      "cell_type": "code",
      "source": [
        "def checkStraightLine(coordinates):\n",
        "    if len(coordinates) <= 2:\n",
        "        return True\n",
        "\n",
        "    x0, y0 = coordinates[0]\n",
        "    x1, y1 = coordinates[1]\n",
        "\n",
        "    for i in range(2, len(coordinates)):\n",
        "        x, y = coordinates[i]\n",
        "        if (y1 - y0) * (x - x0) != (y - y0) * (x1 - x0):\n",
        "            return False\n",
        "\n",
        "    return True\n",
        "\n",
        "\n",
        "# Example usage\n",
        "coordinates = [[1, 2], [2, 3], [3, 4], [4, 5], [5, 6], [6, 7]]\n",
        "print(checkStraightLine(coordinates))\n"
      ],
      "metadata": {
        "colab": {
          "base_uri": "https://localhost:8080/"
        },
        "id": "PBwgCUuoLwvd",
        "outputId": "58af5436-b5a4-4db3-a760-ab4015dac812"
      },
      "execution_count": 8,
      "outputs": [
        {
          "output_type": "stream",
          "name": "stdout",
          "text": [
            "True\n"
          ]
        }
      ]
    },
    {
      "cell_type": "code",
      "source": [],
      "metadata": {
        "id": "leuiLxK1Md8Y"
      },
      "execution_count": null,
      "outputs": []
    }
  ]
}