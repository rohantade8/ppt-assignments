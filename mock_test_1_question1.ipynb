{
  "nbformat": 4,
  "nbformat_minor": 0,
  "metadata": {
    "colab": {
      "provenance": []
    },
    "kernelspec": {
      "name": "python3",
      "display_name": "Python 3"
    },
    "language_info": {
      "name": "python"
    }
  },
  "cells": [
    {
      "cell_type": "markdown",
      "source": [
        "Move Zeroes\n",
        "Given an integer array nums, move all 0's to the end of it while maintaining the relative order of the non-zero elements.\n",
        "\n",
        "Note that you must do this in-place without making a copy of the array.\n",
        "\n",
        "Example 1:\n",
        "Input: nums = [0,1,0,3,12]\n",
        "Output: [1,3,12,0,0]\n",
        "\n",
        "Example 2:\n",
        "Input: nums = [0]\n",
        "Output: [0]\n",
        "\n",
        "Constraints:\n",
        "a. 1 <= nums.length <= 10^4\n",
        "b. -2^31 <= nums[i] <= 2^31 - 1"
      ],
      "metadata": {
        "id": "r9UnyDFge9MO"
      }
    },
    {
      "cell_type": "code",
      "execution_count": 2,
      "metadata": {
        "colab": {
          "base_uri": "https://localhost:8080/"
        },
        "id": "wdCYukgxeAlo",
        "outputId": "79081a39-be38-4aff-ff8d-9f51ab84f29f"
      },
      "outputs": [
        {
          "output_type": "stream",
          "name": "stdout",
          "text": [
            "[1, 3, 12, 0, 0]\n",
            "[0]\n"
          ]
        }
      ],
      "source": [
        "def moveZeroes(nums):\n",
        "    zero_pos = 0\n",
        "\n",
        "    for i in range(len(nums)):\n",
        "        if nums[i] != 0:\n",
        "            nums[i], nums[zero_pos] = nums[zero_pos], nums[i]\n",
        "            zero_pos += 1\n",
        "\n",
        "    return nums\n",
        "# Constraints:\n",
        "# a. 1 <= nums.length <= 10^4\n",
        "# b. -2^31 <= nums[i] <= 2^31 - 1\n",
        "\n",
        "# Example no. 1\n",
        "nums1 = [0, 1, 0, 3, 12]\n",
        "print(moveZeroes(nums1))  # Output is [1, 3, 12, 0, 0]\n",
        "\n",
        "# Example no. 2\n",
        "nums2 = [0]\n",
        "print(moveZeroes(nums2))  # Output is [0]\n"
      ]
    }
  ]
}