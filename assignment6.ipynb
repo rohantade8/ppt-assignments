{
  "nbformat": 4,
  "nbformat_minor": 0,
  "metadata": {
    "colab": {
      "provenance": []
    },
    "kernelspec": {
      "name": "python3",
      "display_name": "Python 3"
    },
    "language_info": {
      "name": "python"
    }
  },
  "cells": [
    {
      "cell_type": "markdown",
      "source": [
        "**Question 1**\n",
        "\n",
        "A permutation perm of n + 1 integers of all the integers in the range [0, n] can be represented as a string s of length n where:\n",
        "\n",
        "- s[i] == 'I' if perm[i] < perm[i + 1], and\n",
        "- s[i] == 'D' if perm[i] > perm[i + 1].\n",
        "\n",
        "Given a string s, reconstruct the permutation perm and return it. If there are multiple valid permutations perm, return **any of them**.\n",
        "\n",
        "**Example 1:**\n",
        "\n",
        "**Input:** s = \"IDID\"\n",
        "\n",
        "**Output:**\n",
        "\n",
        "[0,4,1,3,2]"
      ],
      "metadata": {
        "id": "tZaix3HZEGa2"
      }
    },
    {
      "cell_type": "code",
      "execution_count": 2,
      "metadata": {
        "colab": {
          "base_uri": "https://localhost:8080/"
        },
        "id": "p5-1azoeEC6n",
        "outputId": "a4b7608d-67bd-4dd7-9d9a-4aaddc82a5fc"
      },
      "outputs": [
        {
          "output_type": "stream",
          "name": "stdout",
          "text": [
            "[4, 0, 4, 0, 4]\n"
          ]
        }
      ],
      "source": [
        "def reconstructPermutation(s):\n",
        "    n = len(s)\n",
        "    perm = []\n",
        "    max_val = n\n",
        "\n",
        "    for ch in s:\n",
        "        if ch == 'I':\n",
        "            perm.append(max_val)\n",
        "            max_val -= 1\n",
        "        else:\n",
        "            perm.append(0)\n",
        "            max_val += 1\n",
        "\n",
        "    perm.append(max_val)\n",
        "    return perm\n",
        "s = \"IDID\"\n",
        "print(reconstructPermutation(s))\n"
      ]
    },
    {
      "cell_type": "markdown",
      "source": [
        "**Question 2**\n",
        "\n",
        "You are given an m x n integer matrix matrix with the following two properties:\n",
        "\n",
        "- Each row is sorted in non-decreasing order.\n",
        "- The first integer of each row is greater than the last integer of the previous row.\n",
        "\n",
        "Given an integer target, return true *if* target *is in* matrix *or* false *otherwise*.\n",
        "\n",
        "You must write a solution in O(log(m * n)) time complexity.\n",
        "\n",
        "**Example 1:**\n",
        "**Input:** matrix = [[1,3,5,7],[10,11,16,20],[23,30,34,60]], target = 3\n",
        "\n",
        "**Output:** true"
      ],
      "metadata": {
        "id": "bpcVR7lBEjD6"
      }
    },
    {
      "cell_type": "code",
      "source": [
        "def searchMatrix(matrix, target):\n",
        "    m = len(matrix)  # Number of rows\n",
        "    n = len(matrix[0])  # Number of columns\n",
        "\n",
        "    left = 0\n",
        "    right = m * n - 1\n",
        "\n",
        "    while left <= right:\n",
        "        mid = (left + right) // 2\n",
        "        row = mid // n\n",
        "        col = mid % n\n",
        "        if matrix[row][col] == target:\n",
        "            return True\n",
        "        elif matrix[row][col] < target:\n",
        "            left = mid + 1\n",
        "        else:\n",
        "            right = mid - 1\n",
        "\n",
        "    return False\n",
        "matrix = [[1, 3, 5, 7], [10, 11, 16, 20], [23, 30, 34, 60]]\n",
        "target = 3\n",
        "print(searchMatrix(matrix, target))"
      ],
      "metadata": {
        "colab": {
          "base_uri": "https://localhost:8080/"
        },
        "id": "hwfGfy_QEKEL",
        "outputId": "f8217599-0598-465c-ed82-08ee3dac2579"
      },
      "execution_count": 4,
      "outputs": [
        {
          "output_type": "stream",
          "name": "stdout",
          "text": [
            "True\n"
          ]
        }
      ]
    },
    {
      "cell_type": "markdown",
      "source": [
        "**Question 3**\n",
        "\n",
        "Given an array of integers arr, return *true if and only if it is a valid mountain array*.\n",
        "\n",
        "Recall that arr is a mountain array if and only if:\n",
        "\n",
        "- arr.length >= 3\n",
        "- There exists some i with 0 < i < arr.length - 1 such that:\n",
        "    - arr[0] < arr[1] < ... < arr[i - 1] < arr[i]\n",
        "    - arr[i] > arr[i + 1] > ... > arr[arr.length - 1]\n",
        "**Example 1:**\n",
        "\n",
        "**Input:** arr = [2,1]\n",
        "\n",
        "**Output:**\n",
        "\n",
        "false"
      ],
      "metadata": {
        "id": "L8h-senAFElm"
      }
    },
    {
      "cell_type": "code",
      "source": [
        "def validMountainArray(arr):\n",
        "    left = 0\n",
        "    right = len(arr) - 1\n",
        "\n",
        "    if len(arr) < 3:\n",
        "        return False\n",
        "\n",
        "    while left < right:\n",
        "        if arr[left] < arr[left + 1]:\n",
        "            left += 1\n",
        "        elif arr[right] < arr[right - 1]:\n",
        "            right -= 1\n",
        "        else:\n",
        "            break\n",
        "\n",
        "    return left != 0 and right != len(arr) - 1 and left == right\n",
        "arr = [2, 1]\n",
        "print(validMountainArray(arr))\n"
      ],
      "metadata": {
        "colab": {
          "base_uri": "https://localhost:8080/"
        },
        "id": "VIcemVoKE_nA",
        "outputId": "5aa59ea0-1b0c-40db-9bda-a0d5956d0250"
      },
      "execution_count": 5,
      "outputs": [
        {
          "output_type": "stream",
          "name": "stdout",
          "text": [
            "False\n"
          ]
        }
      ]
    },
    {
      "cell_type": "markdown",
      "source": [
        "**Question 4**\n",
        "\n",
        "Given a binary array nums, return *the maximum length of a contiguous subarray with an equal number of* 0 *and* 1.\n",
        "\n",
        "**Example 1:**\n",
        "\n",
        "**Input:** nums = [0,1]\n",
        "\n",
        "**Output:** 2\n",
        "\n",
        "**Explanation:**\n",
        "\n",
        "[0, 1] is the longest contiguous subarray with an equal number of 0 and 1."
      ],
      "metadata": {
        "id": "FxdzvYiAFe7i"
      }
    },
    {
      "cell_type": "code",
      "source": [
        "def validMountainArray(arr):\n",
        "    left = 0\n",
        "    right = len(arr) - 1\n",
        "\n",
        "    if len(arr) < 3:\n",
        "        return False\n",
        "\n",
        "    while left < right:\n",
        "        if arr[left] < arr[left + 1]:\n",
        "            left += 1\n",
        "        elif arr[right] < arr[right - 1]:\n",
        "            right -= 1\n",
        "        else:\n",
        "            break\n",
        "\n",
        "    return left != 0 and right != len(arr) - 1 and left == right\n",
        "arr = [2, 1]\n",
        "print(validMountainArray(arr))"
      ],
      "metadata": {
        "colab": {
          "base_uri": "https://localhost:8080/"
        },
        "id": "IEgKHDpAFdUG",
        "outputId": "cb6746e2-07bd-400c-ee2b-2e73a1d69d2c"
      },
      "execution_count": 6,
      "outputs": [
        {
          "output_type": "stream",
          "name": "stdout",
          "text": [
            "False\n"
          ]
        }
      ]
    },
    {
      "cell_type": "markdown",
      "source": [
        "**Question 5**\n",
        "\n",
        "The **product sum** of two equal-length arrays a and b is equal to the sum of a[i] * b[i] for all 0 <= i < a.length (**0-indexed**).\n",
        "\n",
        "- For example, if a = [1,2,3,4] and b = [5,2,3,1], the **product sum** would be 1*5 + 2*2 + 3*3 + 4*1 = 22.\n",
        "\n",
        "Given two arrays nums1 and nums2 of length n, return *the **minimum product sum** if you are allowed to **rearrange** the **order** of the elements in* nums1.\n",
        "\n",
        "**Example 1:**\n",
        "\n",
        "**Input:** nums1 = [5,3,4,2], nums2 = [4,2,2,5]\n",
        "\n",
        "**Output:** 40\n",
        "\n",
        "**Explanation:**\n",
        "\n",
        "We can rearrange nums1 to become [3,5,4,2]. The product sum of [3,5,4,2] and [4,2,2,5] is 3*4 + 5*2 + 4*2 + 2*5 = 40."
      ],
      "metadata": {
        "id": "NuEzRE7CF7HJ"
      }
    },
    {
      "cell_type": "code",
      "source": [
        "def minProductSum(nums1, nums2):\n",
        "    nums1.sort()\n",
        "    nums2.sort()\n",
        "    min_product_sum = 0\n",
        "\n",
        "    for i in range(len(nums1)):\n",
        "        min_product_sum += nums1[i] * nums2[len(nums2) - 1 - i]\n",
        "\n",
        "    return min_product_sum\n",
        "nums1 = [5, 3, 4, 2]\n",
        "nums2 = [4, 2, 2, 5]\n",
        "print(minProductSum(nums1, nums2))"
      ],
      "metadata": {
        "colab": {
          "base_uri": "https://localhost:8080/"
        },
        "id": "ZgGdHsltF4XO",
        "outputId": "50cc05ac-71d8-467e-f404-527c666c01ec"
      },
      "execution_count": 7,
      "outputs": [
        {
          "output_type": "stream",
          "name": "stdout",
          "text": [
            "40\n"
          ]
        }
      ]
    },
    {
      "cell_type": "markdown",
      "source": [
        "**Question 6**\n",
        "\n",
        "An integer array original is transformed into a **doubled** array changed by appending **twice the value** of every element in original, and then randomly **shuffling** the resulting array.\n",
        "\n",
        "Given an array changed, return original *if* changed *is a **doubled** array. If* changed *is not a **doubled** array, return an empty array. The elements in* original *may be returned in **any** order*.\n",
        "\n",
        "**Example 1:**\n",
        "\n",
        "**Input:** changed = [1,3,4,2,6,8]\n",
        "\n",
        "**Output:** [1,3,4]\n",
        "\n",
        "**Explanation:** One possible original array could be [1,3,4]:\n",
        "\n",
        "- Twice the value of 1 is 1 * 2 = 2.\n",
        "- Twice the value of 3 is 3 * 2 = 6.\n",
        "- Twice the value of 4 is 4 * 2 = 8.\n",
        "\n",
        "Other original arrays could be [4,3,1] or [3,1,4]."
      ],
      "metadata": {
        "id": "TldUD91qGPu1"
      }
    },
    {
      "cell_type": "code",
      "source": [
        "def findOriginalArray(changed):\n",
        "    frequency_map = {}\n",
        "    for num in changed:\n",
        "        if num in frequency_map:\n",
        "            frequency_map[num] += 1\n",
        "        else:\n",
        "            frequency_map[num] = 1\n",
        "\n",
        "    original = []\n",
        "    for num in changed:\n",
        "        if num * 2 in frequency_map and frequency_map[num * 2] > 0:\n",
        "            original.append(num)\n",
        "            frequency_map[num * 2] -= 1\n",
        "\n",
        "    if len(original) == len(changed) // 2:\n",
        "        return original\n",
        "    else:\n",
        "        return []\n",
        "\n",
        "changed = [1, 3, 4, 2, 6, 8]\n",
        "print(findOriginalArray(changed))\n"
      ],
      "metadata": {
        "colab": {
          "base_uri": "https://localhost:8080/"
        },
        "id": "aU446m14GIQ9",
        "outputId": "3f1f808f-32eb-4320-8778-d35ff6a2c0b9"
      },
      "execution_count": 9,
      "outputs": [
        {
          "output_type": "stream",
          "name": "stdout",
          "text": [
            "[]\n"
          ]
        }
      ]
    },
    {
      "cell_type": "markdown",
      "source": [
        "**Question 7**\n",
        "\n",
        "Given a positive integer n, generate an n x n matrix filled with elements from 1 to n2 in spiral order.\n",
        "\n",
        "**Example 1:**\n",
        "**Input:** n = 3\n",
        "\n",
        "**Output:** [[1,2,3],[8,9,4],[7,6,5]]"
      ],
      "metadata": {
        "id": "dm696p4gGzWd"
      }
    },
    {
      "cell_type": "code",
      "source": [
        "def generateMatrix(n):\n",
        "    matrix = [[0] * n for _ in range(n)]\n",
        "    startRow, endRow = 0, n - 1\n",
        "    startCol, endCol = 0, n - 1\n",
        "    num = 1\n",
        "\n",
        "    while num <= n * n:\n",
        "        # Fill top row\n",
        "        for col in range(startCol, endCol + 1):\n",
        "            matrix[startRow][col] = num\n",
        "            num += 1\n",
        "        startRow += 1\n",
        "\n",
        "        # Fill right column\n",
        "        for row in range(startRow, endRow + 1):\n",
        "            matrix[row][endCol] = num\n",
        "            num += 1\n",
        "        endCol -= 1\n",
        "\n",
        "        # Fill bottom row\n",
        "        for col in range(endCol, startCol - 1, -1):\n",
        "            matrix[endRow][col] = num\n",
        "            num += 1\n",
        "        endRow -= 1\n",
        "\n",
        "        # Fill left column\n",
        "        for row in range(endRow, startRow - 1, -1):\n",
        "            matrix[row][startCol] = num\n",
        "            num += 1\n",
        "        startCol += 1\n",
        "\n",
        "    return matrix\n",
        "n = 3\n",
        "print(generateMatrix(n))"
      ],
      "metadata": {
        "colab": {
          "base_uri": "https://localhost:8080/"
        },
        "id": "GSaQaCc5GgL8",
        "outputId": "31fa5bdf-8e24-4618-a0d1-1285e556264c"
      },
      "execution_count": 11,
      "outputs": [
        {
          "output_type": "stream",
          "name": "stdout",
          "text": [
            "[[1, 2, 3], [8, 9, 4], [7, 6, 5]]\n"
          ]
        }
      ]
    },
    {
      "cell_type": "markdown",
      "source": [
        "**Question 8**\n",
        "\n",
        "Given two [sparse matrices](https://en.wikipedia.org/wiki/Sparse_matrix) mat1 of size m x k and mat2 of size k x n, return the result of mat1 x mat2. You may assume that multiplication is always possible.\n",
        "\n",
        "**Example 1:**\n",
        "**Input:** mat1 = [[1,0,0],[-1,0,3]], mat2 = [[7,0,0],[0,0,0],[0,0,1]]\n",
        "\n",
        "**Output:**\n",
        "\n",
        "[[7,0,0],[-7,0,3]]"
      ],
      "metadata": {
        "id": "ypZ79kRzHNu8"
      }
    },
    {
      "cell_type": "code",
      "source": [
        "def multiply(mat1, mat2):\n",
        "    m, k = len(mat1), len(mat1[0])\n",
        "    k, n = len(mat2), len(mat2[0])\n",
        "\n",
        "    result = [[0] * n for _ in range(m)]\n",
        "    mat1_dict = {}\n",
        "\n",
        "    for i in range(m):\n",
        "        for j in range(k):\n",
        "            if mat1[i][j] != 0:\n",
        "                mat1_dict[(i, j)] = mat1[i][j]\n",
        "\n",
        "    for i in range(k):\n",
        "        for j in range(n):\n",
        "            if mat2[i][j] != 0:\n",
        "                for k in range(k):\n",
        "                    if (i, k) in mat1_dict:\n",
        "                        result[j][k] += mat2[i][j] * mat1_dict[(i, k)]\n",
        "\n",
        "    return result\n",
        "mat1 = [[1, 0, 0], [-1, 0, 3]]\n",
        "mat2 = [[7, 0, 0], [0, 0, 0], [0, 0, 1]]\n",
        "print(multiply(mat1, mat2))"
      ],
      "metadata": {
        "colab": {
          "base_uri": "https://localhost:8080/"
        },
        "id": "EgaxllhcHIp0",
        "outputId": "c3477c5b-ca3c-4aaf-f752-30102aae55d7"
      },
      "execution_count": 13,
      "outputs": [
        {
          "output_type": "stream",
          "name": "stdout",
          "text": [
            "[[7, 0, 0], [0, 0, 0]]\n"
          ]
        }
      ]
    },
    {
      "cell_type": "code",
      "source": [],
      "metadata": {
        "id": "vwzgcTUSHjTD"
      },
      "execution_count": null,
      "outputs": []
    }
  ]
}