{
  "nbformat": 4,
  "nbformat_minor": 0,
  "metadata": {
    "colab": {
      "provenance": []
    },
    "kernelspec": {
      "name": "python3",
      "display_name": "Python 3"
    },
    "language_info": {
      "name": "python"
    }
  },
  "cells": [
    {
      "cell_type": "markdown",
      "source": [
        "First Unique Character in a String\n",
        "\n",
        "Given a string s, find the first non-repeating character in it and return its index. If it does not exist, return -1.\n",
        "\n",
        "Example 1:\n",
        "Input: s = \"leetcode\"\n",
        "Output: 0\n",
        "\n",
        "Example 2:\n",
        "Input: s = \"loveleetcode\"\n",
        "Output: 2\n",
        "\n",
        "Example 3:\n",
        "Input: s = \"aabb\"\n",
        "Output: -1\n",
        "\n",
        "Constraints:\n",
        "a. 1 <= s.length <= 10^5\n",
        "b. s consists of only lowercase English letters."
      ],
      "metadata": {
        "id": "f-6evLOFiAZq"
      }
    },
    {
      "cell_type": "code",
      "source": [
        "def firstUniqChar(s):\n",
        "    char_count = {}\n",
        "\n",
        "    for char in s:\n",
        "        char_count[char] = char_count.get(char, 0) + 1\n",
        "\n",
        "    for i in range(len(s)):\n",
        "        if char_count[s[i]] == 1:\n",
        "            return i\n",
        "\n",
        "    return -1\n",
        "\n",
        "# Example 1\n",
        "s1 = \"leetcode\"\n",
        "print(firstUniqChar(s1))  # Output: 0\n",
        "\n",
        "# Example 2\n",
        "s2 = \"loveleetcode\"\n",
        "print(firstUniqChar(s2))  # Output: 2\n",
        "\n",
        "# Example 3\n",
        "s3 = \"aabb\"\n",
        "print(firstUniqChar(s3))  # Output: -1\n"
      ],
      "metadata": {
        "colab": {
          "base_uri": "https://localhost:8080/"
        },
        "id": "0tJNoQ0-iDIw",
        "outputId": "a4892228-c6df-45a0-f682-8b736f50e911"
      },
      "execution_count": 2,
      "outputs": [
        {
          "output_type": "stream",
          "name": "stdout",
          "text": [
            "0\n",
            "2\n",
            "-1\n"
          ]
        }
      ]
    },
    {
      "cell_type": "code",
      "source": [],
      "metadata": {
        "id": "i7Ta98-nia5b"
      },
      "execution_count": null,
      "outputs": []
    }
  ]
}