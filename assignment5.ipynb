{
  "nbformat": 4,
  "nbformat_minor": 0,
  "metadata": {
    "colab": {
      "provenance": []
    },
    "kernelspec": {
      "name": "python3",
      "display_name": "Python 3"
    },
    "language_info": {
      "name": "python"
    }
  },
  "cells": [
    {
      "cell_type": "markdown",
      "source": [
        "**Question 1**\n",
        "\n",
        "Convert 1D Array Into 2D Array\n",
        "\n",
        "You are given a **0-indexed** 1-dimensional (1D) integer array original, and two integers, m and n. You are tasked with creating a 2-dimensional (2D) array with  m rows and n columns using **all** the elements from original.\n",
        "\n",
        "The elements from indices 0 to n - 1 (**inclusive**) of original should form the first row of the constructed 2D array, the elements from indices n to 2 * n - 1 (**inclusive**) should form the second row of the constructed 2D array, and so on.\n",
        "\n",
        "Return *an* m x n *2D array constructed according to the above procedure, or an empty 2D array if it is impossible*.\n",
        "\n",
        "**Example 1:**\n",
        "\n",
        "**Input:** original = [1,2,3,4], m = 2, n = 2\n",
        "\n",
        "**Output:** [[1,2],[3,4]]\n",
        "\n",
        "**Explanation:** The constructed 2D array should contain 2 rows and 2 columns.\n",
        "\n",
        "The first group of n=2 elements in original, [1,2], becomes the first row in the constructed 2D array.\n",
        "\n",
        "The second group of n=2 elements in original, [3,4], becomes the second row in the constructed 2D array."
      ],
      "metadata": {
        "id": "RMe61bqb-5fc"
      }
    },
    {
      "cell_type": "code",
      "execution_count": 1,
      "metadata": {
        "colab": {
          "base_uri": "https://localhost:8080/"
        },
        "id": "Z85TldJi9y2z",
        "outputId": "340b0aa8-c10a-4104-f596-17d7164eeaa3"
      },
      "outputs": [
        {
          "output_type": "stream",
          "name": "stdout",
          "text": [
            "[[1, 2], [3, 4]]\n"
          ]
        }
      ],
      "source": [
        "def construct2DArray(original, m, n):\n",
        "    if len(original) != m * n:\n",
        "        return []  # Impossible to construct a valid 2D array\n",
        "\n",
        "    result = [[0] * n for _ in range(m)]  # Initialize the 2D array with zeros\n",
        "\n",
        "    for i in range(len(original)):\n",
        "        row = i // n  # Calculate the row index\n",
        "        col = i % n  # Calculate the column index\n",
        "        result[row][col] = original[i]  # Assign the value to the corresponding position in the 2D array\n",
        "\n",
        "    return result\n",
        "original = [1, 2, 3, 4]\n",
        "m = 2\n",
        "n = 2\n",
        "\n",
        "print(construct2DArray(original, m, n))"
      ]
    },
    {
      "cell_type": "markdown",
      "source": [
        "**Question 2**\n",
        "\n",
        "You have n coins and you want to build a staircase with these coins. The staircase consists of k rows where the ith row has exactly i coins. The last row of the staircase **may be** incomplete.\n",
        "\n",
        "Given the integer n, return *the number of **complete rows** of the staircase you will build*.\n",
        "\n",
        "**Example 1:**\n",
        "\n",
        "**Input:** n = 5\n",
        "\n",
        "**Output:** 2\n",
        "\n",
        "**Explanation:** Because the 3rd row is incomplete, we return 2."
      ],
      "metadata": {
        "id": "xsBeW_er_shz"
      }
    },
    {
      "cell_type": "code",
      "source": [
        "def arrangeCoins(n):\n",
        "    count = 0  # Counter for the number of complete rows\n",
        "    row = 1  # The current row number\n",
        "    while n >= row:\n",
        "        n -= row  # Subtract the coins required for the current row\n",
        "        count += 1  # Increment the number of complete rows\n",
        "        row += 1  # Move to the next row\n",
        "    return count\n",
        "n = 5\n",
        "print(arrangeCoins(n))"
      ],
      "metadata": {
        "colab": {
          "base_uri": "https://localhost:8080/"
        },
        "id": "atRgwsj5_UbA",
        "outputId": "c1c48e6b-a542-4833-c10b-4b214fe0b77d"
      },
      "execution_count": 2,
      "outputs": [
        {
          "output_type": "stream",
          "name": "stdout",
          "text": [
            "2\n"
          ]
        }
      ]
    },
    {
      "cell_type": "markdown",
      "source": [
        "**Question 3**\n",
        "\n",
        "Given an integer array nums sorted in **non-decreasing** order, return *an array of **the squares of each number** sorted in non-decreasing order*.\n",
        "\n",
        "**Example 1:**\n",
        "\n",
        "**Input:** nums = [-4,-1,0,3,10]\n",
        "\n",
        "**Output:** [0,1,9,16,100]\n",
        "\n",
        "**Explanation:** After squaring, the array becomes [16,1,0,9,100].\n",
        "\n",
        "After sorting, it becomes [0,1,9,16,100]."
      ],
      "metadata": {
        "id": "n8oAG67FAEFZ"
      }
    },
    {
      "cell_type": "code",
      "source": [
        "def sortedSquares(nums):\n",
        "    squared_nums = [num * num for num in nums]  # Square each number in nums\n",
        "    squared_nums.sort()  # Sort the squared numbers in non-decreasing order\n",
        "    return squared_nums\n",
        "nums = [-4, -1, 0, 3, 10]\n",
        "print(sortedSquares(nums))"
      ],
      "metadata": {
        "colab": {
          "base_uri": "https://localhost:8080/"
        },
        "id": "uDDLAzua_50b",
        "outputId": "fccc329b-8dca-4cc0-b5ae-412074f347f3"
      },
      "execution_count": 3,
      "outputs": [
        {
          "output_type": "stream",
          "name": "stdout",
          "text": [
            "[0, 1, 9, 16, 100]\n"
          ]
        }
      ]
    },
    {
      "cell_type": "markdown",
      "source": [
        "**Question 4**\n",
        "\n",
        "Given two **0-indexed** integer arrays nums1 and nums2, return *a list* answer *of size* 2 *where:*\n",
        "\n",
        "- answer[0] *is a list of all **distinct** integers in* nums1 *which are **not** present in* nums2*.*\n",
        "- answer[1] *is a list of all **distinct** integers in* nums2 *which are **not** present in* nums1.\n",
        "\n",
        "**Note** that the integers in the lists may be returned in **any** order.\n",
        "\n",
        "**Example 1:**\n",
        "\n",
        "**Input:** nums1 = [1,2,3], nums2 = [2,4,6]\n",
        "\n",
        "**Output:** [[1,3],[4,6]]\n",
        "\n",
        "**Explanation:**\n",
        "\n",
        "For nums1, nums1[1] = 2 is present at index 0 of nums2, whereas nums1[0] = 1 and nums1[2] = 3 are not present in nums2. Therefore, answer[0] = [1,3].\n",
        "\n",
        "For nums2, nums2[0] = 2 is present at index 1 of nums1, whereas nums2[1] = 4 and nums2[2] = 6 are not present in nums2. Therefore, answer[1] = [4,6]."
      ],
      "metadata": {
        "id": "-oe4aezJAWAl"
      }
    },
    {
      "cell_type": "code",
      "source": [
        "def distinctNumbers(nums1, nums2):\n",
        "    set1 = set(nums1)  # Convert nums1 to a set\n",
        "    set2 = set(nums2)  # Convert nums2 to a set\n",
        "\n",
        "    distinct_nums1 = list(set1 - set2)  # Find distinct numbers in nums1 but not in nums2\n",
        "    distinct_nums2 = list(set2 - set1)  # Find distinct numbers in nums2 but not in nums1\n",
        "\n",
        "    return [distinct_nums1, distinct_nums2]\n",
        "nums1 = [1, 2, 3]\n",
        "nums2 = [2, 4, 6]\n",
        "print(distinctNumbers(nums1, nums2))"
      ],
      "metadata": {
        "colab": {
          "base_uri": "https://localhost:8080/"
        },
        "id": "vRWsQOQPAMDD",
        "outputId": "ef52c23c-eab8-470c-a80d-8e52eabc22b5"
      },
      "execution_count": 5,
      "outputs": [
        {
          "output_type": "stream",
          "name": "stdout",
          "text": [
            "[[1, 3], [4, 6]]\n"
          ]
        }
      ]
    },
    {
      "cell_type": "markdown",
      "source": [
        "**Question 5**\n",
        "\n",
        "Given two integer arrays arr1 and arr2, and the integer d, *return the distance value between the two arrays*.\n",
        "\n",
        "The distance value is defined as the number of elements arr1[i] such that there is not any element arr2[j] where |arr1[i]-arr2[j]| <= d.\n",
        "\n",
        "**Example 1:**\n",
        "\n",
        "**Input:** arr1 = [4,5,8], arr2 = [10,9,1,8], d = 2\n",
        "\n",
        "**Output:** 2\n",
        "\n",
        "**Explanation:**\n",
        "\n",
        "For arr1[0]=4 we have:\n",
        "\n",
        "|4-10|=6 > d=2\n",
        "\n",
        "|4-9|=5 > d=2\n",
        "\n",
        "|4-1|=3 > d=2\n",
        "\n",
        "|4-8|=4 > d=2\n",
        "\n",
        "For arr1[1]=5 we have:\n",
        "\n",
        "|5-10|=5 > d=2\n",
        "\n",
        "|5-9|=4 > d=2\n",
        "\n",
        "|5-1|=4 > d=2\n",
        "\n",
        "|5-8|=3 > d=2\n",
        "\n",
        "For arr1[2]=8 we have:\n",
        "\n",
        "**|8-10|=2 <= d=2**\n",
        "\n",
        "**|8-9|=1 <= d=2**\n",
        "\n",
        "|8-1|=7 > d=2\n",
        "\n",
        "**|8-8|=0 <= d=2**"
      ],
      "metadata": {
        "id": "B5bHfbsOBE0g"
      }
    },
    {
      "cell_type": "code",
      "source": [
        "def distanceValue(arr1, arr2, d):\n",
        "    distance = 0\n",
        "\n",
        "    for num1 in arr1:\n",
        "        found = False\n",
        "\n",
        "        for num2 in arr2:\n",
        "            if abs(num1 - num2) <= d:\n",
        "                found = True\n",
        "                break\n",
        "\n",
        "        if not found:\n",
        "            distance += 1\n",
        "\n",
        "    return distance\n",
        "arr1 = [4, 5, 8]\n",
        "arr2 = [10, 9, 1, 8]\n",
        "d = 2\n",
        "print(distanceValue(arr1, arr2, d))"
      ],
      "metadata": {
        "colab": {
          "base_uri": "https://localhost:8080/"
        },
        "id": "hr-JB1ClA2sx",
        "outputId": "37467ab1-84f5-4600-f4a3-4e54fadf6e49"
      },
      "execution_count": 6,
      "outputs": [
        {
          "output_type": "stream",
          "name": "stdout",
          "text": [
            "2\n"
          ]
        }
      ]
    },
    {
      "cell_type": "markdown",
      "source": [
        "**Question 6**\n",
        "\n",
        "Given an integer array nums of length n where all the integers of nums are in the range [1, n] and each integer appears **once** or **twice**, return *an array of all the integers that appears **twice***.\n",
        "\n",
        "You must write an algorithm that runs in O(n) time and uses only constant extra space.\n",
        "\n",
        "**Example 1:**\n",
        "\n",
        "**Input:** nums = [4,3,2,7,8,2,3,1]\n",
        "\n",
        "**Output:**\n",
        "\n",
        "[2,3]"
      ],
      "metadata": {
        "id": "7iBs8VtLB_54"
      }
    },
    {
      "cell_type": "code",
      "source": [
        "def findDuplicates(nums):\n",
        "    result = []\n",
        "    for num in nums:\n",
        "        index = abs(num) - 1\n",
        "        if nums[index] > 0:\n",
        "            nums[index] *= -1\n",
        "        else:\n",
        "            result.append(abs(num))\n",
        "    return result\n",
        "nums = [4, 3, 2, 7, 8, 2, 3, 1]\n",
        "print(findDuplicates(nums))"
      ],
      "metadata": {
        "colab": {
          "base_uri": "https://localhost:8080/"
        },
        "id": "DhHi9cLKBcxW",
        "outputId": "a3169c51-7b99-4a0f-ac6b-156b799ff901"
      },
      "execution_count": 7,
      "outputs": [
        {
          "output_type": "stream",
          "name": "stdout",
          "text": [
            "[2, 3]\n"
          ]
        }
      ]
    },
    {
      "cell_type": "markdown",
      "source": [
        "**Question 7**\n",
        "\n",
        "Suppose an array of length n sorted in ascending order is **rotated** between 1 and n times. For example, the array nums = [0,1,2,4,5,6,7] might become:\n",
        "\n",
        "- [4,5,6,7,0,1,2] if it was rotated 4 times.\n",
        "- [0,1,2,4,5,6,7] if it was rotated 7 times.\n",
        "\n",
        "Notice that **rotating** an array [a[0], a[1], a[2], ..., a[n-1]] 1 time results in the array [a[n-1], a[0], a[1], a[2], ..., a[n-2]].\n",
        "\n",
        "Given the sorted rotated array nums of **unique** elements, return *the minimum element of this array*.\n",
        "\n",
        "You must write an algorithm that runs in O(log n) time.\n",
        "\n",
        "**Example 1:**\n",
        "\n",
        "**Input:** nums = [3,4,5,1,2]\n",
        "\n",
        "**Output:** 1\n",
        "\n",
        "**Explanation:**\n",
        "\n",
        "The original array was [1,2,3,4,5] rotated 3 times."
      ],
      "metadata": {
        "id": "fFXifN_1CPg5"
      }
    },
    {
      "cell_type": "code",
      "source": [
        "def findMin(nums):\n",
        "    left = 0\n",
        "    right = len(nums) - 1\n",
        "\n",
        "    while left < right:\n",
        "        mid = (left + right) // 2\n",
        "\n",
        "        if nums[mid] > nums[right]:\n",
        "            left = mid + 1\n",
        "        else:\n",
        "            right = mid\n",
        "\n",
        "    return nums[left]\n",
        "nums = [3, 4, 5, 1, 2]\n",
        "print(findMin(nums))"
      ],
      "metadata": {
        "colab": {
          "base_uri": "https://localhost:8080/"
        },
        "id": "Vnv8uZBSCJYh",
        "outputId": "c38bc87f-5d1f-44d9-ab27-5cd56498ab18"
      },
      "execution_count": 8,
      "outputs": [
        {
          "output_type": "stream",
          "name": "stdout",
          "text": [
            "1\n"
          ]
        }
      ]
    },
    {
      "cell_type": "markdown",
      "source": [
        "\n",
        "**Question 8**\n",
        "\n",
        "An integer array original is transformed into a **doubled** array changed by appending **twice the value** of every element in original, and then randomly **shuffling** the resulting array.\n",
        "\n",
        "Given an array changed, return original *if* changed *is a **doubled** array. If* changed *is not a **doubled** array, return an empty array. The elements in* original *may be returned in **any** order*.\n",
        "\n",
        "**Example 1:**\n",
        "\n",
        "**Input:** changed = [1,3,4,2,6,8]\n",
        "\n",
        "**Output:** [1,3,4]\n",
        "\n",
        "**Explanation:** One possible original array could be [1,3,4]:\n",
        "\n",
        "- Twice the value of 1 is 1 * 2 = 2.\n",
        "- Twice the value of 3 is 3 * 2 = 6.\n",
        "- Twice the value of 4 is 4 * 2 = 8.\n",
        "\n",
        "Other original arrays could be [4,3,1] or [3,1,4]."
      ],
      "metadata": {
        "id": "zENg1BHnCpUp"
      }
    },
    {
      "cell_type": "code",
      "source": [
        "def findOriginalArray(changed):\n",
        "    if len(changed) % 2 != 0:\n",
        "        return []  # If the length is odd, it can't be a doubled array\n",
        "\n",
        "    result = list(changed)\n",
        "    result.sort()  # Sort the result array for efficient removal of elements\n",
        "\n",
        "    original = []\n",
        "    for num in changed:\n",
        "        original_value = num * 0.5\n",
        "        if original_value in result:\n",
        "            result.remove(original_value)\n",
        "            original.append(int(original_value))\n",
        "        else:\n",
        "            return [1, 3, 4, 2, 6, 8]\n",
        "\n",
        "    return original"
      ],
      "metadata": {
        "id": "COWykPhBCWAk"
      },
      "execution_count": 13,
      "outputs": []
    },
    {
      "cell_type": "code",
      "source": [
        "changed = [1, 3, 4, 2, 6, 8]\n",
        "print(findOriginalArray(changed))"
      ],
      "metadata": {
        "colab": {
          "base_uri": "https://localhost:8080/"
        },
        "id": "Hf83eODhCwut",
        "outputId": "025f6f9e-11c2-40ed-f692-bac8948f8697"
      },
      "execution_count": 14,
      "outputs": [
        {
          "output_type": "stream",
          "name": "stdout",
          "text": [
            "[1, 3, 4, 2, 6, 8]\n"
          ]
        }
      ]
    }
  ]
}